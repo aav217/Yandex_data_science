{
 "cells": [
  {
   "cell_type": "markdown",
   "id": "cdfb8e3c-a2b6-4309-a0c8-1af90d1ca0a8",
   "metadata": {},
   "source": [
    "# Статистический анализ данных сервиса аренды самокатов GoFast\n",
    "\n",
    "Проведем исследование данных о пользователях сервиса аренды самокатов GoFast и их поездках.\n",
    "\n",
    "Чтобы совершать поездки по городу, пользователи сервиса GoFast пользуются мобильным приложением. Сервисом можно пользоваться:\n",
    "- без подписки\n",
    "    - абонентская плата отсутствует;\n",
    "    - стоимость одной минуты поездки — 8 рублей;\n",
    "    - стоимость старта (начала поездки) — 50 рублей;\n",
    "- с подпиской Ultra\n",
    "    - абонентская плата — 199 рублей в месяц;\n",
    "    - стоимость одной минуты поездки — 6 рублей;\n",
    "    - стоимость старта — бесплатно.\n",
    "\n",
    "**Цели исследования:**\n",
    "\n",
    "- Описать и визуализировать общую информацию о пользователях и поездках.\n",
    "- Проверить, тратят ли пользователи с подпиской больше времени на поездки.\n",
    "- Установить как влияет наличие подписки у пользователей на помесячную выручку.\n",
    "- Определить оптимальное количество промокодов для проведения промоакции.\n",
    "- Оценить вероятность открытия push-уведомления в мобильном приложении не более чем 399,5 тыс. пользователей\n",
    "    \n",
    "**Ход исследования:**\n",
    "\n",
    "Для проведения исследования в нашем распоряжении имеется 3 датасета:\n",
    "- users_go.csv (информация о пользователях);\n",
    "- rides_go.csv (информация о поездках);\n",
    "- subscriptions_go.csv (информация о подписках пользователей).\n",
    "\n",
    "Исследование будет разделено на 8 основных этапов:\n",
    "1. Первичный обзор данных.\n",
    "2. Предобработка.\n",
    "3. Исследовательский анализ данных.\n",
    "4. Объединение данных.\n",
    "5. Подсчёт выручки.\n",
    "6. Проверка гипотез.\n",
    "7. Исследование распределений.\n",
    "8. Выводы."
   ]
  },
  {
   "cell_type": "code",
   "execution_count": 1,
   "id": "cc72a556-8da9-463b-96e2-6c47fc029515",
   "metadata": {},
   "outputs": [],
   "source": [
    "import pandas as pd\n",
    "import matplotlib.pyplot as plt\n",
    "import seaborn as sns\n",
    "from scipy import stats as st\n",
    "from math import ceil"
   ]
  },
  {
   "cell_type": "markdown",
   "id": "c42cbe00",
   "metadata": {},
   "source": [
    "#### Шаг 1. Загрузка данных"
   ]
  },
  {
   "cell_type": "code",
   "execution_count": 2,
   "id": "eff9f206",
   "metadata": {},
   "outputs": [],
   "source": [
    "try:\n",
    "    users_df = pd.read_csv(r\"C:\\Users\\Алексей\\Downloads\\users_go.csv\")\n",
    "    rides_df = pd.read_csv(r\"C:\\Users\\Алексей\\Downloads\\rides_go.csv\")\n",
    "    subscriptions_df = pd.read_csv(r\"C:\\Users\\Алексей\\Downloads\\subscriptions_go.csv\")\n",
    "except:\n",
    "    users_df = pd.read_csv(\"/datasets/users_go.csv\")\n",
    "    rides_df = pd.read_csv(\"/datasets/rides_go.csv\")\n",
    "    subscriptions_df = pd.read_csv(\"/datasets/subscriptions_go.csv\")"
   ]
  },
  {
   "cell_type": "code",
   "execution_count": 3,
   "id": "eaf577dd-7091-4cf9-a9a6-48bceea5f9b8",
   "metadata": {},
   "outputs": [
    {
     "data": {
      "text/html": [
       "<div>\n",
       "<style scoped>\n",
       "    .dataframe tbody tr th:only-of-type {\n",
       "        vertical-align: middle;\n",
       "    }\n",
       "\n",
       "    .dataframe tbody tr th {\n",
       "        vertical-align: top;\n",
       "    }\n",
       "\n",
       "    .dataframe thead th {\n",
       "        text-align: right;\n",
       "    }\n",
       "</style>\n",
       "<table border=\"1\" class=\"dataframe\">\n",
       "  <thead>\n",
       "    <tr style=\"text-align: right;\">\n",
       "      <th></th>\n",
       "      <th>user_id</th>\n",
       "      <th>name</th>\n",
       "      <th>age</th>\n",
       "      <th>city</th>\n",
       "      <th>subscription_type</th>\n",
       "    </tr>\n",
       "  </thead>\n",
       "  <tbody>\n",
       "    <tr>\n",
       "      <th>0</th>\n",
       "      <td>1</td>\n",
       "      <td>Кира</td>\n",
       "      <td>22</td>\n",
       "      <td>Тюмень</td>\n",
       "      <td>ultra</td>\n",
       "    </tr>\n",
       "    <tr>\n",
       "      <th>1</th>\n",
       "      <td>2</td>\n",
       "      <td>Станислав</td>\n",
       "      <td>31</td>\n",
       "      <td>Омск</td>\n",
       "      <td>ultra</td>\n",
       "    </tr>\n",
       "    <tr>\n",
       "      <th>2</th>\n",
       "      <td>3</td>\n",
       "      <td>Алексей</td>\n",
       "      <td>20</td>\n",
       "      <td>Москва</td>\n",
       "      <td>ultra</td>\n",
       "    </tr>\n",
       "    <tr>\n",
       "      <th>3</th>\n",
       "      <td>4</td>\n",
       "      <td>Константин</td>\n",
       "      <td>26</td>\n",
       "      <td>Ростов-на-Дону</td>\n",
       "      <td>ultra</td>\n",
       "    </tr>\n",
       "    <tr>\n",
       "      <th>4</th>\n",
       "      <td>5</td>\n",
       "      <td>Адель</td>\n",
       "      <td>28</td>\n",
       "      <td>Омск</td>\n",
       "      <td>ultra</td>\n",
       "    </tr>\n",
       "  </tbody>\n",
       "</table>\n",
       "</div>"
      ],
      "text/plain": [
       "   user_id        name  age            city subscription_type\n",
       "0        1        Кира   22          Тюмень             ultra\n",
       "1        2   Станислав   31            Омск             ultra\n",
       "2        3     Алексей   20          Москва             ultra\n",
       "3        4  Константин   26  Ростов-на-Дону             ultra\n",
       "4        5       Адель   28            Омск             ultra"
      ]
     },
     "execution_count": 3,
     "metadata": {},
     "output_type": "execute_result"
    }
   ],
   "source": [
    "users_df.head()"
   ]
  },
  {
   "cell_type": "code",
   "execution_count": 4,
   "id": "7d86ecad-1fa2-47e0-b48a-fe2646ff97db",
   "metadata": {},
   "outputs": [
    {
     "name": "stdout",
     "output_type": "stream",
     "text": [
      "<class 'pandas.core.frame.DataFrame'>\n",
      "RangeIndex: 1565 entries, 0 to 1564\n",
      "Data columns (total 5 columns):\n",
      " #   Column             Non-Null Count  Dtype \n",
      "---  ------             --------------  ----- \n",
      " 0   user_id            1565 non-null   int64 \n",
      " 1   name               1565 non-null   object\n",
      " 2   age                1565 non-null   int64 \n",
      " 3   city               1565 non-null   object\n",
      " 4   subscription_type  1565 non-null   object\n",
      "dtypes: int64(2), object(3)\n",
      "memory usage: 61.3+ KB\n"
     ]
    }
   ],
   "source": [
    "users_df.info()"
   ]
  },
  {
   "cell_type": "code",
   "execution_count": 5,
   "id": "72a224e2-7b48-48e6-8cd2-5cc62d755fb5",
   "metadata": {},
   "outputs": [
    {
     "data": {
      "text/html": [
       "<div>\n",
       "<style scoped>\n",
       "    .dataframe tbody tr th:only-of-type {\n",
       "        vertical-align: middle;\n",
       "    }\n",
       "\n",
       "    .dataframe tbody tr th {\n",
       "        vertical-align: top;\n",
       "    }\n",
       "\n",
       "    .dataframe thead th {\n",
       "        text-align: right;\n",
       "    }\n",
       "</style>\n",
       "<table border=\"1\" class=\"dataframe\">\n",
       "  <thead>\n",
       "    <tr style=\"text-align: right;\">\n",
       "      <th></th>\n",
       "      <th>user_id</th>\n",
       "      <th>distance</th>\n",
       "      <th>duration</th>\n",
       "      <th>date</th>\n",
       "    </tr>\n",
       "  </thead>\n",
       "  <tbody>\n",
       "    <tr>\n",
       "      <th>0</th>\n",
       "      <td>1</td>\n",
       "      <td>4409.919140</td>\n",
       "      <td>25.599769</td>\n",
       "      <td>2021-01-01</td>\n",
       "    </tr>\n",
       "    <tr>\n",
       "      <th>1</th>\n",
       "      <td>1</td>\n",
       "      <td>2617.592153</td>\n",
       "      <td>15.816871</td>\n",
       "      <td>2021-01-18</td>\n",
       "    </tr>\n",
       "    <tr>\n",
       "      <th>2</th>\n",
       "      <td>1</td>\n",
       "      <td>754.159807</td>\n",
       "      <td>6.232113</td>\n",
       "      <td>2021-04-20</td>\n",
       "    </tr>\n",
       "    <tr>\n",
       "      <th>3</th>\n",
       "      <td>1</td>\n",
       "      <td>2694.783254</td>\n",
       "      <td>18.511000</td>\n",
       "      <td>2021-08-11</td>\n",
       "    </tr>\n",
       "    <tr>\n",
       "      <th>4</th>\n",
       "      <td>1</td>\n",
       "      <td>4028.687306</td>\n",
       "      <td>26.265803</td>\n",
       "      <td>2021-08-28</td>\n",
       "    </tr>\n",
       "  </tbody>\n",
       "</table>\n",
       "</div>"
      ],
      "text/plain": [
       "   user_id     distance   duration        date\n",
       "0        1  4409.919140  25.599769  2021-01-01\n",
       "1        1  2617.592153  15.816871  2021-01-18\n",
       "2        1   754.159807   6.232113  2021-04-20\n",
       "3        1  2694.783254  18.511000  2021-08-11\n",
       "4        1  4028.687306  26.265803  2021-08-28"
      ]
     },
     "execution_count": 5,
     "metadata": {},
     "output_type": "execute_result"
    }
   ],
   "source": [
    "rides_df.head()"
   ]
  },
  {
   "cell_type": "code",
   "execution_count": 6,
   "id": "6634cdff-4808-4c6c-a3af-08aea1c6deb7",
   "metadata": {},
   "outputs": [
    {
     "name": "stdout",
     "output_type": "stream",
     "text": [
      "<class 'pandas.core.frame.DataFrame'>\n",
      "RangeIndex: 18068 entries, 0 to 18067\n",
      "Data columns (total 4 columns):\n",
      " #   Column    Non-Null Count  Dtype  \n",
      "---  ------    --------------  -----  \n",
      " 0   user_id   18068 non-null  int64  \n",
      " 1   distance  18068 non-null  float64\n",
      " 2   duration  18068 non-null  float64\n",
      " 3   date      18068 non-null  object \n",
      "dtypes: float64(2), int64(1), object(1)\n",
      "memory usage: 564.8+ KB\n"
     ]
    }
   ],
   "source": [
    "rides_df.info()"
   ]
  },
  {
   "cell_type": "code",
   "execution_count": 7,
   "id": "b26866dd-eae4-4bc5-a612-40b7abba65a2",
   "metadata": {},
   "outputs": [
    {
     "data": {
      "text/html": [
       "<div>\n",
       "<style scoped>\n",
       "    .dataframe tbody tr th:only-of-type {\n",
       "        vertical-align: middle;\n",
       "    }\n",
       "\n",
       "    .dataframe tbody tr th {\n",
       "        vertical-align: top;\n",
       "    }\n",
       "\n",
       "    .dataframe thead th {\n",
       "        text-align: right;\n",
       "    }\n",
       "</style>\n",
       "<table border=\"1\" class=\"dataframe\">\n",
       "  <thead>\n",
       "    <tr style=\"text-align: right;\">\n",
       "      <th></th>\n",
       "      <th>subscription_type</th>\n",
       "      <th>minute_price</th>\n",
       "      <th>start_ride_price</th>\n",
       "      <th>subscription_fee</th>\n",
       "    </tr>\n",
       "  </thead>\n",
       "  <tbody>\n",
       "    <tr>\n",
       "      <th>0</th>\n",
       "      <td>free</td>\n",
       "      <td>8</td>\n",
       "      <td>50</td>\n",
       "      <td>0</td>\n",
       "    </tr>\n",
       "    <tr>\n",
       "      <th>1</th>\n",
       "      <td>ultra</td>\n",
       "      <td>6</td>\n",
       "      <td>0</td>\n",
       "      <td>199</td>\n",
       "    </tr>\n",
       "  </tbody>\n",
       "</table>\n",
       "</div>"
      ],
      "text/plain": [
       "  subscription_type  minute_price  start_ride_price  subscription_fee\n",
       "0              free             8                50                 0\n",
       "1             ultra             6                 0               199"
      ]
     },
     "execution_count": 7,
     "metadata": {},
     "output_type": "execute_result"
    }
   ],
   "source": [
    "subscriptions_df.head()"
   ]
  },
  {
   "cell_type": "code",
   "execution_count": 8,
   "id": "ce9b5cd5-3f0f-4cca-857c-65ba489a5844",
   "metadata": {},
   "outputs": [
    {
     "name": "stdout",
     "output_type": "stream",
     "text": [
      "<class 'pandas.core.frame.DataFrame'>\n",
      "RangeIndex: 2 entries, 0 to 1\n",
      "Data columns (total 4 columns):\n",
      " #   Column             Non-Null Count  Dtype \n",
      "---  ------             --------------  ----- \n",
      " 0   subscription_type  2 non-null      object\n",
      " 1   minute_price       2 non-null      int64 \n",
      " 2   start_ride_price   2 non-null      int64 \n",
      " 3   subscription_fee   2 non-null      int64 \n",
      "dtypes: int64(3), object(1)\n",
      "memory usage: 196.0+ bytes\n"
     ]
    }
   ],
   "source": [
    "subscriptions_df.info()"
   ]
  },
  {
   "cell_type": "markdown",
   "id": "c6aed20d-6bf9-4f8b-bf49-66c6bcfef155",
   "metadata": {},
   "source": [
    "##### Изучив информацию о полученных датасетах, можно сделать первые выводы:\n",
    "- во всех датасетах отсутствуют пропущенные значения;\n",
    "- в таблице rides_df некорректно задан тип данных для поля *date*"
   ]
  },
  {
   "cell_type": "markdown",
   "id": "e95ebca7",
   "metadata": {},
   "source": [
    "#### Шаг 2. Предобработка данных"
   ]
  },
  {
   "cell_type": "markdown",
   "id": "85053715-4640-443e-b61a-1feef510dfdd",
   "metadata": {},
   "source": [
    "Установим для поля *date* в таблице rides_df тип datetime"
   ]
  },
  {
   "cell_type": "code",
   "execution_count": 9,
   "id": "a439efbe-6284-44a1-b222-e46c7cb05c48",
   "metadata": {},
   "outputs": [],
   "source": [
    "rides_df['date'] = pd.to_datetime(rides_df['date'])"
   ]
  },
  {
   "cell_type": "code",
   "execution_count": 10,
   "id": "a4da4c62-7bce-40d0-859f-e2a397fac880",
   "metadata": {},
   "outputs": [
    {
     "data": {
      "text/plain": [
       "user_id              int64\n",
       "distance           float64\n",
       "duration           float64\n",
       "date        datetime64[ns]\n",
       "dtype: object"
      ]
     },
     "execution_count": 10,
     "metadata": {},
     "output_type": "execute_result"
    }
   ],
   "source": [
    "rides_df.dtypes"
   ]
  },
  {
   "cell_type": "markdown",
   "id": "f78b6718-03de-4fb6-8d48-857040ae6bb8",
   "metadata": {},
   "source": [
    "Для дальнейшего анализа создадим новый столбец с номером месяца на основе столбца date"
   ]
  },
  {
   "cell_type": "code",
   "execution_count": 11,
   "id": "9854040f-83cf-4992-a876-a5b35279b995",
   "metadata": {},
   "outputs": [],
   "source": [
    "rides_df['month'] = rides_df['date'].dt.month"
   ]
  },
  {
   "cell_type": "code",
   "execution_count": 12,
   "id": "fa283397-fecc-4707-a64b-11a31302334c",
   "metadata": {},
   "outputs": [
    {
     "data": {
      "text/html": [
       "<div>\n",
       "<style scoped>\n",
       "    .dataframe tbody tr th:only-of-type {\n",
       "        vertical-align: middle;\n",
       "    }\n",
       "\n",
       "    .dataframe tbody tr th {\n",
       "        vertical-align: top;\n",
       "    }\n",
       "\n",
       "    .dataframe thead th {\n",
       "        text-align: right;\n",
       "    }\n",
       "</style>\n",
       "<table border=\"1\" class=\"dataframe\">\n",
       "  <thead>\n",
       "    <tr style=\"text-align: right;\">\n",
       "      <th></th>\n",
       "      <th>user_id</th>\n",
       "      <th>distance</th>\n",
       "      <th>duration</th>\n",
       "      <th>date</th>\n",
       "      <th>month</th>\n",
       "    </tr>\n",
       "  </thead>\n",
       "  <tbody>\n",
       "    <tr>\n",
       "      <th>0</th>\n",
       "      <td>1</td>\n",
       "      <td>4409.919140</td>\n",
       "      <td>25.599769</td>\n",
       "      <td>2021-01-01</td>\n",
       "      <td>1</td>\n",
       "    </tr>\n",
       "    <tr>\n",
       "      <th>1</th>\n",
       "      <td>1</td>\n",
       "      <td>2617.592153</td>\n",
       "      <td>15.816871</td>\n",
       "      <td>2021-01-18</td>\n",
       "      <td>1</td>\n",
       "    </tr>\n",
       "    <tr>\n",
       "      <th>2</th>\n",
       "      <td>1</td>\n",
       "      <td>754.159807</td>\n",
       "      <td>6.232113</td>\n",
       "      <td>2021-04-20</td>\n",
       "      <td>4</td>\n",
       "    </tr>\n",
       "    <tr>\n",
       "      <th>3</th>\n",
       "      <td>1</td>\n",
       "      <td>2694.783254</td>\n",
       "      <td>18.511000</td>\n",
       "      <td>2021-08-11</td>\n",
       "      <td>8</td>\n",
       "    </tr>\n",
       "    <tr>\n",
       "      <th>4</th>\n",
       "      <td>1</td>\n",
       "      <td>4028.687306</td>\n",
       "      <td>26.265803</td>\n",
       "      <td>2021-08-28</td>\n",
       "      <td>8</td>\n",
       "    </tr>\n",
       "  </tbody>\n",
       "</table>\n",
       "</div>"
      ],
      "text/plain": [
       "   user_id     distance   duration       date  month\n",
       "0        1  4409.919140  25.599769 2021-01-01      1\n",
       "1        1  2617.592153  15.816871 2021-01-18      1\n",
       "2        1   754.159807   6.232113 2021-04-20      4\n",
       "3        1  2694.783254  18.511000 2021-08-11      8\n",
       "4        1  4028.687306  26.265803 2021-08-28      8"
      ]
     },
     "execution_count": 12,
     "metadata": {},
     "output_type": "execute_result"
    }
   ],
   "source": [
    "rides_df.head()"
   ]
  },
  {
   "cell_type": "markdown",
   "id": "aa2e1988-e5c9-4754-8b84-88096ad987e9",
   "metadata": {},
   "source": [
    "Проверим данные на наличие дубликатов. Так как в таблице subscriptions_df всего 2 строки, ее проверять не будем"
   ]
  },
  {
   "cell_type": "code",
   "execution_count": 13,
   "id": "eda65e78-45a1-4ebc-abe3-97824ff9746d",
   "metadata": {},
   "outputs": [
    {
     "data": {
      "text/plain": [
       "31"
      ]
     },
     "execution_count": 13,
     "metadata": {},
     "output_type": "execute_result"
    }
   ],
   "source": [
    "users_df.duplicated().sum()"
   ]
  },
  {
   "cell_type": "code",
   "execution_count": 14,
   "id": "25dd089d-9d6c-4618-a13f-eb1b94147666",
   "metadata": {},
   "outputs": [
    {
     "data": {
      "text/plain": [
       "0"
      ]
     },
     "execution_count": 14,
     "metadata": {},
     "output_type": "execute_result"
    }
   ],
   "source": [
    "rides_df.duplicated().sum()"
   ]
  },
  {
   "cell_type": "markdown",
   "id": "06ad285f-5c66-42ce-829b-13c06609c188",
   "metadata": {},
   "source": [
    "Очистим от дубликатов таблицу users_df"
   ]
  },
  {
   "cell_type": "code",
   "execution_count": 15,
   "id": "013966de-ff2d-43c9-b889-d394bf99f374",
   "metadata": {},
   "outputs": [
    {
     "data": {
      "text/plain": [
       "0"
      ]
     },
     "execution_count": 15,
     "metadata": {},
     "output_type": "execute_result"
    }
   ],
   "source": [
    "users_df = users_df.drop_duplicates()\n",
    "users_df.duplicated().sum()"
   ]
  },
  {
   "cell_type": "markdown",
   "id": "55cef4cb-7252-40e3-9fb1-602e6523c203",
   "metadata": {},
   "source": [
    "Проверим поле *city* таблицы users_df на наличие неявных дубликатов"
   ]
  },
  {
   "cell_type": "code",
   "execution_count": 16,
   "id": "12348097-7314-425b-b58f-9b866bac1542",
   "metadata": {},
   "outputs": [
    {
     "data": {
      "text/plain": [
       "array(['Тюмень', 'Омск', 'Москва', 'Ростов-на-Дону', 'Краснодар',\n",
       "       'Пятигорск', 'Екатеринбург', 'Сочи'], dtype=object)"
      ]
     },
     "execution_count": 16,
     "metadata": {},
     "output_type": "execute_result"
    }
   ],
   "source": [
    "users_df['city'].unique()"
   ]
  },
  {
   "cell_type": "markdown",
   "id": "44008760-102e-4ea5-ba45-70bb330c973b",
   "metadata": {
    "jp-MarkdownHeadingCollapsed": true
   },
   "source": [
    "Все названия городов написаны корректно и в едином формате.\n",
    "\n",
    "##### Таким образом, на этапе предобработки:\n",
    "- для поля *date* в таблице rides_df был установлен тип datetime;\n",
    "- удалены дубликаты в таблице users_df;\n",
    "- номера месяцев из столбца *date* выделены в отдельный столбец."
   ]
  },
  {
   "cell_type": "markdown",
   "id": "212593c7",
   "metadata": {},
   "source": [
    "#### Шаг 3. Исследовательский анализ данных"
   ]
  },
  {
   "cell_type": "markdown",
   "id": "ebdfa57d-e339-417d-a43b-e274865fa943",
   "metadata": {},
   "source": [
    "Рассмотрим частоту встречаемости городов в таблице users_df"
   ]
  },
  {
   "cell_type": "code",
   "execution_count": 17,
   "id": "610fecd5-9642-4352-a3f4-8f1d69e839cd",
   "metadata": {},
   "outputs": [
    {
     "data": {
      "image/png": "[encoded data removed]",
      "text/plain": [
       "<Figure size 640x480 with 1 Axes>"
      ]
     },
     "metadata": {},
     "output_type": "display_data"
    },
    {
     "data": {
      "text/plain": [
       "city\n",
       "Пятигорск         219\n",
       "Екатеринбург      204\n",
       "Ростов-на-Дону    198\n",
       "Краснодар         193\n",
       "Сочи              189\n",
       "Омск              183\n",
       "Тюмень            180\n",
       "Москва            168\n",
       "Name: count, dtype: int64"
      ]
     },
     "execution_count": 17,
     "metadata": {},
     "output_type": "execute_result"
    }
   ],
   "source": [
    "users_df['city'].value_counts().plot(kind='bar')\n",
    "plt.xlabel('Город')\n",
    "plt.ylabel('Кол-во пользователей')\n",
    "plt.title('Распределение пользователей по городам')\n",
    "plt.xticks(rotation=45)\n",
    "plt.show()\n",
    "users_df['city'].value_counts()"
   ]
  },
  {
   "cell_type": "markdown",
   "id": "e7599ad1-d2a1-476b-b3c0-601326afea6a",
   "metadata": {},
   "source": [
    "Городом с самым большим числом пользователей является Пятигорск. Меньше всего пользователей, среди предствленных городов в Москве.\n",
    "\n",
    "Посмотрим на соотношение пользователей с подпиской и без подписки\n"
   ]
  },
  {
   "cell_type": "code",
   "execution_count": 18,
   "id": "2af380b2-5e29-41f0-a079-c64532b9ab8e",
   "metadata": {},
   "outputs": [
    {
     "data": {
      "image/png": "[encoded data removed]",
      "text/plain": [
       "<Figure size 640x480 with 1 Axes>"
      ]
     },
     "metadata": {},
     "output_type": "display_data"
    },
    {
     "data": {
      "text/html": [
       "<div>\n",
       "<style scoped>\n",
       "    .dataframe tbody tr th:only-of-type {\n",
       "        vertical-align: middle;\n",
       "    }\n",
       "\n",
       "    .dataframe tbody tr th {\n",
       "        vertical-align: top;\n",
       "    }\n",
       "\n",
       "    .dataframe thead th {\n",
       "        text-align: right;\n",
       "    }\n",
       "</style>\n",
       "<table border=\"1\" class=\"dataframe\">\n",
       "  <thead>\n",
       "    <tr style=\"text-align: right;\">\n",
       "      <th></th>\n",
       "      <th>subscription_type</th>\n",
       "      <th>count</th>\n",
       "      <th>percent</th>\n",
       "    </tr>\n",
       "  </thead>\n",
       "  <tbody>\n",
       "    <tr>\n",
       "      <th>0</th>\n",
       "      <td>free</td>\n",
       "      <td>835</td>\n",
       "      <td>0.544329</td>\n",
       "    </tr>\n",
       "    <tr>\n",
       "      <th>1</th>\n",
       "      <td>ultra</td>\n",
       "      <td>699</td>\n",
       "      <td>0.455671</td>\n",
       "    </tr>\n",
       "  </tbody>\n",
       "</table>\n",
       "</div>"
      ],
      "text/plain": [
       "  subscription_type  count   percent\n",
       "0              free    835  0.544329\n",
       "1             ultra    699  0.455671"
      ]
     },
     "execution_count": 18,
     "metadata": {},
     "output_type": "execute_result"
    }
   ],
   "source": [
    "users_df['subscription_type'].value_counts().plot(kind='pie', colors=['#bf9d9d', '#4074c2'])\n",
    "plt.title('Соотношение пользователей с подпиской и без подписки')\n",
    "plt.ylabel('')\n",
    "plt.show()\n",
    "subscription_types = users_df['subscription_type'].value_counts().reset_index()\n",
    "subscription_types['percent'] = subscription_types['count'] / subscription_types['count'].sum()\n",
    "subscription_types"
   ]
  },
  {
   "cell_type": "markdown",
   "id": "b4ff7722-767e-492b-b0b1-36008f63c96e",
   "metadata": {},
   "source": [
    "Примерно 46% пользователей имеют платную подписку. Пользователей без подписки - около 54%\n",
    "\n",
    "Рассмотрим распределение пользователей по возрасту"
   ]
  },
  {
   "cell_type": "code",
   "execution_count": 39,
   "id": "53bbe1bd-97a3-4751-a352-a1e0e5b75033",
   "metadata": {},
   "outputs": [
    {
     "data": {
      "image/png": "[encoded data removed]",
      "text/plain": [
       "<Figure size 640x480 with 1 Axes>"
      ]
     },
     "metadata": {},
     "output_type": "display_data"
    },
    {
     "data": {
      "text/plain": [
       "count    1534.000000\n",
       "mean       24.903520\n",
       "std         4.572367\n",
       "min        12.000000\n",
       "25%        22.000000\n",
       "50%        25.000000\n",
       "75%        28.000000\n",
       "max        43.000000\n",
       "Name: age, dtype: float64"
      ]
     },
     "execution_count": 39,
     "metadata": {},
     "output_type": "execute_result"
    }
   ],
   "source": [
    "users_df['age'].hist(bins=30)\n",
    "plt.xlabel('Возраст')\n",
    "plt.ylabel('Кол-во пользователей')\n",
    "plt.title('Распределение пользователей по возрасту')\n",
    "plt.xticks(range(11, 42, 2))\n",
    "plt.show()\n",
    "users_df['age'].describe()"
   ]
  },
  {
   "cell_type": "markdown",
   "id": "da98930c-e56e-4cbc-b964-8cffac1d7337",
   "metadata": {},
   "source": [
    "Значительное количество пользователей сервиса находится в возрасте от 21 года до 29 лет. Наибольший возраст - 43 года, наименьший - 12 лет. Наиболее распространенный возраст - 25 лет.\n",
    "\n",
    "Исследуем, как распределяется продолжительность поездок, а также расстояние, преодолеваемое за одну поездку"
   ]
  },
  {
   "cell_type": "code",
   "execution_count": 20,
   "id": "46b271b5-697b-4788-b29d-079149b93cda",
   "metadata": {},
   "outputs": [
    {
     "data": {
      "image/png": "[encoded data removed]",
      "text/plain": [
       "<Figure size 640x480 with 1 Axes>"
      ]
     },
     "metadata": {},
     "output_type": "display_data"
    },
    {
     "data": {
      "text/plain": [
       "count    18068.000000\n",
       "mean        17.805011\n",
       "std          6.091051\n",
       "min          0.500000\n",
       "25%         13.597563\n",
       "50%         17.678395\n",
       "75%         21.724800\n",
       "max         40.823963\n",
       "Name: duration, dtype: float64"
      ]
     },
     "execution_count": 20,
     "metadata": {},
     "output_type": "execute_result"
    }
   ],
   "source": [
    "rides_df['duration'].hist(bins=30)\n",
    "plt.xlabel('Продолжительность поездки, мин')\n",
    "plt.ylabel('Кол-во поездок')\n",
    "plt.title('Распределение продолжительности поездок')\n",
    "plt.xticks(range(0, 40, 2))\n",
    "plt.show()\n",
    "rides_df['duration'].describe()"
   ]
  },
  {
   "cell_type": "code",
   "execution_count": 21,
   "id": "2920111d-176c-42e3-b793-3200f3d51e36",
   "metadata": {},
   "outputs": [
    {
     "data": {
      "image/png": "[encoded data removed]",
      "text/plain": [
       "<Figure size 640x480 with 1 Axes>"
      ]
     },
     "metadata": {},
     "output_type": "display_data"
    },
    {
     "data": {
      "text/plain": [
       "count    18068.000000\n",
       "mean      3070.659976\n",
       "std       1116.831209\n",
       "min          0.855683\n",
       "25%       2543.226360\n",
       "50%       3133.609994\n",
       "75%       3776.222735\n",
       "max       7211.007745\n",
       "Name: distance, dtype: float64"
      ]
     },
     "execution_count": 21,
     "metadata": {},
     "output_type": "execute_result"
    }
   ],
   "source": [
    "rides_df['distance'].hist(bins=50)\n",
    "plt.xlabel('Расстояние, м')\n",
    "plt.ylabel('Кол-во поездок')\n",
    "plt.title('Распределение расстояний, преодолеваемых за одну поездку')\n",
    "plt.show()\n",
    "rides_df['distance'].describe()"
   ]
  },
  {
   "cell_type": "markdown",
   "id": "56ce9c75-ee2f-4dda-9631-62a2150e1748",
   "metadata": {},
   "source": [
    "Чаще всего совершаются поездки продолжительностью от 10 до 25 минут. За большую часть поездок пользователи преодолевают расстояние от 2 до 5 км, однако в распределении выделяется группа поездок на расстояния около 500-1000 метров."
   ]
  },
  {
   "cell_type": "markdown",
   "id": "4ef51331",
   "metadata": {},
   "source": [
    "#### Шаг 4. Объединение данных"
   ]
  },
  {
   "cell_type": "markdown",
   "id": "cee10698-db0c-4fe9-9845-8e8d4a7b8754",
   "metadata": {},
   "source": [
    "Для дальнейшего анализа объединим данные о пользователях, поездках и подписках в один датафрейм"
   ]
  },
  {
   "cell_type": "code",
   "execution_count": 22,
   "id": "4ec07695-8258-4a94-9f40-a6137cf5276c",
   "metadata": {},
   "outputs": [
    {
     "data": {
      "text/html": [
       "<div>\n",
       "<style scoped>\n",
       "    .dataframe tbody tr th:only-of-type {\n",
       "        vertical-align: middle;\n",
       "    }\n",
       "\n",
       "    .dataframe tbody tr th {\n",
       "        vertical-align: top;\n",
       "    }\n",
       "\n",
       "    .dataframe thead th {\n",
       "        text-align: right;\n",
       "    }\n",
       "</style>\n",
       "<table border=\"1\" class=\"dataframe\">\n",
       "  <thead>\n",
       "    <tr style=\"text-align: right;\">\n",
       "      <th></th>\n",
       "      <th>user_id</th>\n",
       "      <th>name</th>\n",
       "      <th>age</th>\n",
       "      <th>city</th>\n",
       "      <th>subscription_type</th>\n",
       "      <th>distance</th>\n",
       "      <th>duration</th>\n",
       "      <th>date</th>\n",
       "      <th>month</th>\n",
       "      <th>minute_price</th>\n",
       "      <th>start_ride_price</th>\n",
       "      <th>subscription_fee</th>\n",
       "    </tr>\n",
       "  </thead>\n",
       "  <tbody>\n",
       "    <tr>\n",
       "      <th>0</th>\n",
       "      <td>1</td>\n",
       "      <td>Кира</td>\n",
       "      <td>22</td>\n",
       "      <td>Тюмень</td>\n",
       "      <td>ultra</td>\n",
       "      <td>4409.919140</td>\n",
       "      <td>25.599769</td>\n",
       "      <td>2021-01-01</td>\n",
       "      <td>1</td>\n",
       "      <td>6</td>\n",
       "      <td>0</td>\n",
       "      <td>199</td>\n",
       "    </tr>\n",
       "    <tr>\n",
       "      <th>1</th>\n",
       "      <td>1</td>\n",
       "      <td>Кира</td>\n",
       "      <td>22</td>\n",
       "      <td>Тюмень</td>\n",
       "      <td>ultra</td>\n",
       "      <td>2617.592153</td>\n",
       "      <td>15.816871</td>\n",
       "      <td>2021-01-18</td>\n",
       "      <td>1</td>\n",
       "      <td>6</td>\n",
       "      <td>0</td>\n",
       "      <td>199</td>\n",
       "    </tr>\n",
       "    <tr>\n",
       "      <th>2</th>\n",
       "      <td>1</td>\n",
       "      <td>Кира</td>\n",
       "      <td>22</td>\n",
       "      <td>Тюмень</td>\n",
       "      <td>ultra</td>\n",
       "      <td>754.159807</td>\n",
       "      <td>6.232113</td>\n",
       "      <td>2021-04-20</td>\n",
       "      <td>4</td>\n",
       "      <td>6</td>\n",
       "      <td>0</td>\n",
       "      <td>199</td>\n",
       "    </tr>\n",
       "    <tr>\n",
       "      <th>3</th>\n",
       "      <td>1</td>\n",
       "      <td>Кира</td>\n",
       "      <td>22</td>\n",
       "      <td>Тюмень</td>\n",
       "      <td>ultra</td>\n",
       "      <td>2694.783254</td>\n",
       "      <td>18.511000</td>\n",
       "      <td>2021-08-11</td>\n",
       "      <td>8</td>\n",
       "      <td>6</td>\n",
       "      <td>0</td>\n",
       "      <td>199</td>\n",
       "    </tr>\n",
       "    <tr>\n",
       "      <th>4</th>\n",
       "      <td>1</td>\n",
       "      <td>Кира</td>\n",
       "      <td>22</td>\n",
       "      <td>Тюмень</td>\n",
       "      <td>ultra</td>\n",
       "      <td>4028.687306</td>\n",
       "      <td>26.265803</td>\n",
       "      <td>2021-08-28</td>\n",
       "      <td>8</td>\n",
       "      <td>6</td>\n",
       "      <td>0</td>\n",
       "      <td>199</td>\n",
       "    </tr>\n",
       "  </tbody>\n",
       "</table>\n",
       "</div>"
      ],
      "text/plain": [
       "   user_id  name  age    city subscription_type     distance   duration  \\\n",
       "0        1  Кира   22  Тюмень             ultra  4409.919140  25.599769   \n",
       "1        1  Кира   22  Тюмень             ultra  2617.592153  15.816871   \n",
       "2        1  Кира   22  Тюмень             ultra   754.159807   6.232113   \n",
       "3        1  Кира   22  Тюмень             ultra  2694.783254  18.511000   \n",
       "4        1  Кира   22  Тюмень             ultra  4028.687306  26.265803   \n",
       "\n",
       "        date  month  minute_price  start_ride_price  subscription_fee  \n",
       "0 2021-01-01      1             6                 0               199  \n",
       "1 2021-01-18      1             6                 0               199  \n",
       "2 2021-04-20      4             6                 0               199  \n",
       "3 2021-08-11      8             6                 0               199  \n",
       "4 2021-08-28      8             6                 0               199  "
      ]
     },
     "execution_count": 22,
     "metadata": {},
     "output_type": "execute_result"
    }
   ],
   "source": [
    "df = users_df.merge(rides_df, on='user_id').merge(subscriptions_df, on='subscription_type')\n",
    "df.head()"
   ]
  },
  {
   "cell_type": "markdown",
   "id": "349d4efc-82d4-4cea-9f58-6443c291d4ff",
   "metadata": {},
   "source": [
    "Создадим отдельные датафреймы для пользователей с подпиской и без подписки"
   ]
  },
  {
   "cell_type": "code",
   "execution_count": 23,
   "id": "9dee1923-f8c0-48fe-a8d3-bff899b0521d",
   "metadata": {},
   "outputs": [],
   "source": [
    "df_free = df[df['subscription_type'] == 'free']\n",
    "df_ultra = df[df['subscription_type'] == 'ultra']"
   ]
  },
  {
   "cell_type": "markdown",
   "id": "417fca7a-2ba0-4a46-bdbc-5bfa9c06cd30",
   "metadata": {},
   "source": [
    "Проанализируем информацию о расстоянии и времени поездок для пользователей обеих категорий"
   ]
  },
  {
   "cell_type": "code",
   "execution_count": 24,
   "id": "a18dc2e1-492e-4553-b30f-35c69daa5b85",
   "metadata": {},
   "outputs": [
    {
     "data": {
      "image/png": "[encoded data removed]",
      "text/plain": [
       "<Figure size 640x480 with 1 Axes>"
      ]
     },
     "metadata": {},
     "output_type": "display_data"
    },
    {
     "data": {
      "text/plain": [
       "count    11568.000000\n",
       "mean        17.390909\n",
       "std          6.326803\n",
       "min          0.500000\n",
       "25%         12.958437\n",
       "50%         17.326890\n",
       "75%         21.594071\n",
       "max         34.948498\n",
       "Name: duration, dtype: float64"
      ]
     },
     "execution_count": 24,
     "metadata": {},
     "output_type": "execute_result"
    }
   ],
   "source": [
    "df_free['duration'].hist(bins=30)\n",
    "plt.xlabel('Продолжительность поездки, мин')\n",
    "plt.ylabel('Кол-во поездок')\n",
    "plt.title('Распределение продолжительности поездок пользователей без подписки')\n",
    "plt.xticks(range(0, 38, 2))\n",
    "plt.show()\n",
    "df_free['duration'].describe()"
   ]
  },
  {
   "cell_type": "code",
   "execution_count": 25,
   "id": "6d76d0e5-fb42-4263-91ff-ae2292c92610",
   "metadata": {},
   "outputs": [
    {
     "data": {
      "image/png": "[encoded data removed]",
      "text/plain": [
       "<Figure size 640x480 with 1 Axes>"
      ]
     },
     "metadata": {},
     "output_type": "display_data"
    },
    {
     "data": {
      "text/plain": [
       "count    6500.000000\n",
       "mean       18.541985\n",
       "std         5.572048\n",
       "min         3.760353\n",
       "25%        14.524654\n",
       "50%        18.178153\n",
       "75%        21.884129\n",
       "max        40.823963\n",
       "Name: duration, dtype: float64"
      ]
     },
     "execution_count": 25,
     "metadata": {},
     "output_type": "execute_result"
    }
   ],
   "source": [
    "df_ultra['duration'].hist(bins=30)\n",
    "plt.xlabel('Продолжительность поездки, мин')\n",
    "plt.ylabel('Кол-во поездок')\n",
    "plt.title('Распределение продолжительности поездок пользователей с подпиской')\n",
    "plt.xticks(range(0, 40, 2))\n",
    "plt.show()\n",
    "df_ultra['duration'].describe()"
   ]
  },
  {
   "cell_type": "code",
   "execution_count": 26,
   "id": "3e635ada-010f-4642-bbba-f72fc3e8e64f",
   "metadata": {},
   "outputs": [
    {
     "data": {
      "image/png": "[encoded data removed]",
      "text/plain": [
       "<Figure size 640x480 with 1 Axes>"
      ]
     },
     "metadata": {},
     "output_type": "display_data"
    },
    {
     "data": {
      "text/plain": [
       "count    11568.000000\n",
       "mean      3045.495282\n",
       "std       1246.173806\n",
       "min          0.855683\n",
       "25%       2366.562689\n",
       "50%       3114.648465\n",
       "75%       3905.697894\n",
       "max       7211.007745\n",
       "Name: distance, dtype: float64"
      ]
     },
     "execution_count": 26,
     "metadata": {},
     "output_type": "execute_result"
    }
   ],
   "source": [
    "df_free['distance'].hist(bins=50)\n",
    "plt.xlabel('Расстояние, м')\n",
    "plt.ylabel('Кол-во поездок')\n",
    "plt.title('Распределение расстояний, преодолеваемых за одну поездку пользователями без подписки')\n",
    "plt.show()\n",
    "df_free['distance'].describe()"
   ]
  },
  {
   "cell_type": "code",
   "execution_count": 27,
   "id": "01a00edf-d725-4096-bc88-8a88faeda1bd",
   "metadata": {},
   "outputs": [
    {
     "data": {
      "image/png": "[encoded data removed]",
      "text/plain": [
       "<Figure size 640x480 with 1 Axes>"
      ]
     },
     "metadata": {},
     "output_type": "display_data"
    },
    {
     "data": {
      "text/plain": [
       "count    6500.000000\n",
       "mean     3115.445388\n",
       "std       836.895330\n",
       "min       244.210438\n",
       "25%      2785.444017\n",
       "50%      3148.637229\n",
       "75%      3560.574425\n",
       "max      5699.769662\n",
       "Name: distance, dtype: float64"
      ]
     },
     "execution_count": 27,
     "metadata": {},
     "output_type": "execute_result"
    }
   ],
   "source": [
    "df_ultra['distance'].hist(bins=50)\n",
    "plt.xlabel('Расстояние, м')\n",
    "plt.ylabel('Кол-во поездок')\n",
    "plt.title('Распределение расстояний, преодолеваемых за одну поездку пользователями с подпиской')\n",
    "plt.show()\n",
    "df_ultra['distance'].describe()"
   ]
  },
  {
   "cell_type": "markdown",
   "id": "6501654b-3827-458d-a3dc-514a91cb25a4",
   "metadata": {},
   "source": [
    "Продолжительность поездки пользователей с подпиской в среднем незначительно превышает аналогичный показатель для пользователей без подписки. Статистическую значимость данного показателя рассчитаем дальше. Из графика видно, что наличие подписки не оказывает ощутимого влияния на расстояние, преодолеваемое за 1 поездку - значения медианы по этому показателю практически идентичны. Схожа и доля поездок на расстояние в 1 км и меньше. В группе пользователей без подписки заметно большее стандартное отклонение в распределении расстояния. Можно предположить, что пользователи с подпиской совершают большую часть поездок по постоянным маршрутам, а пользователи без подписки чаще совершают поездки по случайным или нерегулярным маршрутам"
   ]
  },
  {
   "cell_type": "markdown",
   "id": "402d620f",
   "metadata": {},
   "source": [
    "#### Шаг 5. Подсчёт выручки"
   ]
  },
  {
   "cell_type": "markdown",
   "id": "123fa09e-7ec4-463c-b5eb-5ddbcdbe371c",
   "metadata": {},
   "source": [
    "Посчитаем суммарное расстояние, количество поездок и суммарное время для каждого пользователя за каждый месяц. Для этого создадим датафрейм с агрегированными данными о поездках на основе объединенного датафрейма df"
   ]
  },
  {
   "cell_type": "code",
   "execution_count": 28,
   "id": "1eb5f024-6912-4ee8-b1b4-f70ad3725e81",
   "metadata": {},
   "outputs": [
    {
     "data": {
      "text/html": [
       "<div>\n",
       "<style scoped>\n",
       "    .dataframe tbody tr th:only-of-type {\n",
       "        vertical-align: middle;\n",
       "    }\n",
       "\n",
       "    .dataframe tbody tr th {\n",
       "        vertical-align: top;\n",
       "    }\n",
       "\n",
       "    .dataframe thead th {\n",
       "        text-align: right;\n",
       "    }\n",
       "</style>\n",
       "<table border=\"1\" class=\"dataframe\">\n",
       "  <thead>\n",
       "    <tr style=\"text-align: right;\">\n",
       "      <th></th>\n",
       "      <th>user_id</th>\n",
       "      <th>month</th>\n",
       "      <th>subscription_type</th>\n",
       "      <th>rides_count</th>\n",
       "      <th>total_distance</th>\n",
       "      <th>total_duration</th>\n",
       "    </tr>\n",
       "  </thead>\n",
       "  <tbody>\n",
       "    <tr>\n",
       "      <th>0</th>\n",
       "      <td>1</td>\n",
       "      <td>1</td>\n",
       "      <td>ultra</td>\n",
       "      <td>2</td>\n",
       "      <td>7027.511294</td>\n",
       "      <td>41.416640</td>\n",
       "    </tr>\n",
       "    <tr>\n",
       "      <th>1</th>\n",
       "      <td>1</td>\n",
       "      <td>4</td>\n",
       "      <td>ultra</td>\n",
       "      <td>1</td>\n",
       "      <td>754.159807</td>\n",
       "      <td>6.232113</td>\n",
       "    </tr>\n",
       "    <tr>\n",
       "      <th>2</th>\n",
       "      <td>1</td>\n",
       "      <td>8</td>\n",
       "      <td>ultra</td>\n",
       "      <td>2</td>\n",
       "      <td>6723.470560</td>\n",
       "      <td>44.776802</td>\n",
       "    </tr>\n",
       "    <tr>\n",
       "      <th>3</th>\n",
       "      <td>1</td>\n",
       "      <td>10</td>\n",
       "      <td>ultra</td>\n",
       "      <td>2</td>\n",
       "      <td>5809.911100</td>\n",
       "      <td>31.578017</td>\n",
       "    </tr>\n",
       "    <tr>\n",
       "      <th>4</th>\n",
       "      <td>1</td>\n",
       "      <td>11</td>\n",
       "      <td>ultra</td>\n",
       "      <td>3</td>\n",
       "      <td>7003.499363</td>\n",
       "      <td>53.397424</td>\n",
       "    </tr>\n",
       "  </tbody>\n",
       "</table>\n",
       "</div>"
      ],
      "text/plain": [
       "   user_id  month subscription_type  rides_count  total_distance  \\\n",
       "0        1      1             ultra            2     7027.511294   \n",
       "1        1      4             ultra            1      754.159807   \n",
       "2        1      8             ultra            2     6723.470560   \n",
       "3        1     10             ultra            2     5809.911100   \n",
       "4        1     11             ultra            3     7003.499363   \n",
       "\n",
       "   total_duration  \n",
       "0       41.416640  \n",
       "1        6.232113  \n",
       "2       44.776802  \n",
       "3       31.578017  \n",
       "4       53.397424  "
      ]
     },
     "execution_count": 28,
     "metadata": {},
     "output_type": "execute_result"
    }
   ],
   "source": [
    "df_users_month = df.groupby(['user_id', 'month', 'subscription_type'])[['distance', 'duration']].agg(['count', 'sum'])\n",
    "df_users_month.columns = ['rides_count', 'total_distance', 'drop', 'total_duration']\n",
    "df_users_month = df_users_month[['rides_count', 'total_distance', 'total_duration']]\n",
    "df_users_month = df_users_month.reset_index()\n",
    "df_users_month.head()"
   ]
  },
  {
   "cell_type": "markdown",
   "id": "0c9d904e-cc95-4a70-a7e1-88804956c2c0",
   "metadata": {},
   "source": [
    "Добавим в датафрейм столбец с выручкой. Для этого создадим функцию, расчитывающую выручку в зависимости от наличия подписки"
   ]
  },
  {
   "cell_type": "code",
   "execution_count": 29,
   "id": "11a22e06-950d-42ce-a0e1-a47b60a0c57d",
   "metadata": {},
   "outputs": [],
   "source": [
    "def revenue(row):\n",
    "    if row['subscription_type'] == 'ultra':\n",
    "        return 199 + ceil(row['total_duration']) * 6\n",
    "    return 50 * row['rides_count'] + ceil(row['total_duration']) * 8"
   ]
  },
  {
   "cell_type": "code",
   "execution_count": 36,
   "id": "f0dd7b67-689c-4f00-827c-b0ebc1195d21",
   "metadata": {},
   "outputs": [],
   "source": [
    "df_users_month['revenue'] = df_users_month.apply(revenue, axis=1)"
   ]
  },
  {
   "cell_type": "code",
   "execution_count": 38,
   "id": "bb9656b9-82f3-4666-b4ec-6f599648ef55",
   "metadata": {},
   "outputs": [
    {
     "data": {
      "text/html": [
       "<div>\n",
       "<style scoped>\n",
       "    .dataframe tbody tr th:only-of-type {\n",
       "        vertical-align: middle;\n",
       "    }\n",
       "\n",
       "    .dataframe tbody tr th {\n",
       "        vertical-align: top;\n",
       "    }\n",
       "\n",
       "    .dataframe thead th {\n",
       "        text-align: right;\n",
       "    }\n",
       "</style>\n",
       "<table border=\"1\" class=\"dataframe\">\n",
       "  <thead>\n",
       "    <tr style=\"text-align: right;\">\n",
       "      <th></th>\n",
       "      <th>user_id</th>\n",
       "      <th>month</th>\n",
       "      <th>subscription_type</th>\n",
       "      <th>rides_count</th>\n",
       "      <th>total_distance</th>\n",
       "      <th>total_duration</th>\n",
       "      <th>revenue</th>\n",
       "    </tr>\n",
       "  </thead>\n",
       "  <tbody>\n",
       "    <tr>\n",
       "      <th>0</th>\n",
       "      <td>1</td>\n",
       "      <td>1</td>\n",
       "      <td>ultra</td>\n",
       "      <td>2</td>\n",
       "      <td>7027.511294</td>\n",
       "      <td>41.416640</td>\n",
       "      <td>451</td>\n",
       "    </tr>\n",
       "    <tr>\n",
       "      <th>1</th>\n",
       "      <td>1</td>\n",
       "      <td>4</td>\n",
       "      <td>ultra</td>\n",
       "      <td>1</td>\n",
       "      <td>754.159807</td>\n",
       "      <td>6.232113</td>\n",
       "      <td>241</td>\n",
       "    </tr>\n",
       "    <tr>\n",
       "      <th>2</th>\n",
       "      <td>1</td>\n",
       "      <td>8</td>\n",
       "      <td>ultra</td>\n",
       "      <td>2</td>\n",
       "      <td>6723.470560</td>\n",
       "      <td>44.776802</td>\n",
       "      <td>469</td>\n",
       "    </tr>\n",
       "    <tr>\n",
       "      <th>3</th>\n",
       "      <td>1</td>\n",
       "      <td>10</td>\n",
       "      <td>ultra</td>\n",
       "      <td>2</td>\n",
       "      <td>5809.911100</td>\n",
       "      <td>31.578017</td>\n",
       "      <td>391</td>\n",
       "    </tr>\n",
       "    <tr>\n",
       "      <th>4</th>\n",
       "      <td>1</td>\n",
       "      <td>11</td>\n",
       "      <td>ultra</td>\n",
       "      <td>3</td>\n",
       "      <td>7003.499363</td>\n",
       "      <td>53.397424</td>\n",
       "      <td>523</td>\n",
       "    </tr>\n",
       "  </tbody>\n",
       "</table>\n",
       "</div>"
      ],
      "text/plain": [
       "   user_id  month subscription_type  rides_count  total_distance  \\\n",
       "0        1      1             ultra            2     7027.511294   \n",
       "1        1      4             ultra            1      754.159807   \n",
       "2        1      8             ultra            2     6723.470560   \n",
       "3        1     10             ultra            2     5809.911100   \n",
       "4        1     11             ultra            3     7003.499363   \n",
       "\n",
       "   total_duration  revenue  \n",
       "0       41.416640      451  \n",
       "1        6.232113      241  \n",
       "2       44.776802      469  \n",
       "3       31.578017      391  \n",
       "4       53.397424      523  "
      ]
     },
     "execution_count": 38,
     "metadata": {},
     "output_type": "execute_result"
    }
   ],
   "source": [
    "df_users_month.head()"
   ]
  },
  {
   "cell_type": "markdown",
   "id": "41545ac0",
   "metadata": {},
   "source": [
    "#### Шаг 6. Проверка гипотез"
   ]
  },
  {
   "cell_type": "markdown",
   "id": "b72650ae-55f9-43ea-92c0-928e526a11fb",
   "metadata": {},
   "source": [
    "Проверим гипотезу о том, что пользователи с подпиской тратят больше времени на поездки чем пользователи без подписки\n",
    "\n",
    "Используем двухвыборочный t-тест для независимых выборок:\n",
    "- нулевая гипотеза: средние в 2х группах равны;\n",
    "- альтернативная гипотеза: среднее в группе пользователей с подпиской больше;\n",
    "- выберем уровень статистической значимости 0.05"
   ]
  },
  {
   "cell_type": "code",
   "execution_count": 41,
   "id": "c64cf7f1-ceed-404c-b098-42ca1c86fe7d",
   "metadata": {},
   "outputs": [
    {
     "data": {
      "text/plain": [
       "1.2804098316645618e-34"
      ]
     },
     "execution_count": 41,
     "metadata": {},
     "output_type": "execute_result"
    }
   ],
   "source": [
    "results = st.ttest_ind(\n",
    "    df_ultra['duration'], \n",
    "    df_free['duration'],\n",
    "      alternative='greater')\n",
    "results.pvalue"
   ]
  },
  {
   "cell_type": "markdown",
   "id": "d4fa0312-065f-4249-8212-3d5e2ca524c4",
   "metadata": {},
   "source": [
    "Полученное p-значение значительно ниже выбранного уровня статистической значимости. Отвергаем нулевую гипотезу. Таким образом, **пользователи с подпиской тратят на поездки больше времени чем пользователи без подписки**"
   ]
  },
  {
   "cell_type": "code",
   "execution_count": null,
   "id": "9b17713c-3e26-4734-a37d-0f6e5de63950",
   "metadata": {},
   "outputs": [],
   "source": []
  },
  {
   "cell_type": "markdown",
   "id": "61213c5e",
   "metadata": {},
   "source": [
    "#### Шаг 7. Распределения"
   ]
  },
  {
   "cell_type": "code",
   "execution_count": null,
   "id": "95cd1d51",
   "metadata": {},
   "outputs": [],
   "source": []
  }
 ],
 "metadata": {
  "kernelspec": {
   "display_name": "Python 3 (ipykernel)",
   "language": "python",
   "name": "python3"
  },
  "language_info": {
   "codemirror_mode": {
    "name": "ipython",
    "version": 3
   },
   "file_extension": ".py",
   "mimetype": "text/x-python",
   "name": "python",
   "nbconvert_exporter": "python",
   "pygments_lexer": "ipython3",
   "version": "3.12.7"
  },
  "toc": {
   "base_numbering": 1,
   "nav_menu": {},
   "number_sections": true,
   "sideBar": true,
   "skip_h1_title": true,
   "title_cell": "Table of Contents",
   "title_sidebar": "Contents",
   "toc_cell": false,
   "toc_position": {},
   "toc_section_display": true,
   "toc_window_display": false
  }
 },
 "nbformat": 4,
 "nbformat_minor": 5
}
